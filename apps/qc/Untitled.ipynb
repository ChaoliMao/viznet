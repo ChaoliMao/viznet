{
 "cells": [
  {
   "cell_type": "code",
   "execution_count": 1,
   "metadata": {
    "collapsed": true
   },
   "outputs": [],
   "source": [
    "import numpy as np\n",
    "import matplotlib.pyplot as plt\n",
    "from viznet import DynamicShow, QuantumCircuit\n",
    "from viznet import parsecircuit as _"
   ]
  },
  {
   "cell_type": "code",
   "execution_count": 12,
   "metadata": {},
   "outputs": [
    {
     "data": {
      "image/png": "[encoded data removed]",
      "text/plain": [
       "<Figure size 432x288 with 1 Axes>"
      ]
     },
     "metadata": {},
     "output_type": "display_data"
    }
   ],
   "source": [
    "num_bit = 3\n",
    "handler = QuantumCircuit(num_bit=num_bit)\n",
    "handler.x += 0.8\n",
    "handler.gate(_.GATE, 1, 'X')\n",
    "handler.x += 1.2\n",
    "for i in range(num_bit):\n",
    "    handler.gate(_.GATE, i, 'H')\n",
    "handler.x += 1.0\n",
    "\n",
    "\n",
    "for i in range(num_bit):\n",
    "    handler.gate(_.END, i)\n",
    "    \n",
    "    \n",
    "# text |0>s\n",
    "for i in range(num_bit):\n",
    "    plt.text(-0.5, -i, r'$\\left\\vert0\\right\\rangle$'\n",
    "             , va='center', ha='center', fontsize=22)\n",
    "    \n",
    "plt.axis(\"equal\")\n",
    "plt.axis(\"off\")\n",
    "plt.show()"
   ]
  },
  {
   "cell_type": "code",
   "execution_count": null,
   "metadata": {
    "collapsed": true
   },
   "outputs": [],
   "source": []
  }
 ],
 "metadata": {
  "kernelspec": {
   "display_name": "Python 3",
   "language": "python",
   "name": "python3"
  },
  "language_info": {
   "codemirror_mode": {
    "name": "ipython",
    "version": 3
   },
   "file_extension": ".py",
   "mimetype": "text/x-python",
   "name": "python",
   "nbconvert_exporter": "python",
   "pygments_lexer": "ipython3",
   "version": "3.6.1"
  }
 },
 "nbformat": 4,
 "nbformat_minor": 2
}
