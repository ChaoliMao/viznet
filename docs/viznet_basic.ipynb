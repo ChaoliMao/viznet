{
 "cells": [
  {
   "cell_type": "code",
   "execution_count": 22,
   "metadata": {
    "collapsed": true
   },
   "outputs": [],
   "source": [
    "import matplotlib.pyplot as plt\n",
    "import numpy as np\n",
    "from viznet import NodeBrush, EdgeBrush, CLinkBrush\n",
    "\n",
    "def _show():\n",
    "    plt.axis('off')\n",
    "    plt.axis('equal')\n",
    "    plt.show()"
   ]
  },
  {
   "cell_type": "markdown",
   "metadata": {},
   "source": [
    "# Basic Operations"
   ]
  },
  {
   "cell_type": "code",
   "execution_count": 23,
   "metadata": {
    "scrolled": true
   },
   "outputs": [
    {
     "data": {
      "image/png": "[encoded data removed]",
      "text/plain": [
       "<Figure size 432x288 with 1 Axes>"
      ]
     },
     "metadata": {},
     "output_type": "display_data"
    }
   ],
   "source": [
    "brush1 = NodeBrush('nn.input', size='normal')\n",
    "brush2 = NodeBrush('tn.tri', size='normal', rotate=np.pi)\n",
    "edge = EdgeBrush('->-', lw=2)\n",
    "\n",
    "# paint a node at (x=1, y=0)\n",
    "node1 = brush1 >> (1,0)\n",
    "node2 = brush2 >> (2,0)\n",
    "# add texts to nodes\n",
    "node1.text('First', 'center', fontsize=18)\n",
    "node2.text('Second', 'right', fontsize=18)\n",
    "\n",
    "# connect two nodes\n",
    "e12 = edge >> (node1, node2)\n",
    "e12.text('Edge', 'top', fontsize=18)\n",
    "\n",
    "# use C link\n",
    "clink = CLinkBrush('<->', offsets=(-0.3,), roundness=0.2)\n",
    "cl = clink >> (node1.pin('bottom'), node2.pin('bottom'))\n",
    "cl.text('C link', 'top', fontsize=14)\n",
    "\n",
    "_show()"
   ]
  },
  {
   "cell_type": "markdown",
   "metadata": {},
   "source": [
    "# Grid System\n",
    "pending..."
   ]
  },
  {
   "cell_type": "code",
   "execution_count": null,
   "metadata": {
    "collapsed": true
   },
   "outputs": [],
   "source": []
  },
  {
   "cell_type": "markdown",
   "metadata": {},
   "source": [
    "# Cluster Wise Operations"
   ]
  },
  {
   "cell_type": "code",
   "execution_count": null,
   "metadata": {
    "collapsed": true
   },
   "outputs": [],
   "source": []
  },
  {
   "cell_type": "markdown",
   "metadata": {},
   "source": [
    "# Quantum Circuit Handler"
   ]
  },
  {
   "cell_type": "code",
   "execution_count": null,
   "metadata": {
    "collapsed": true
   },
   "outputs": [],
   "source": []
  }
 ],
 "metadata": {
  "kernelspec": {
   "display_name": "Python 3",
   "language": "python",
   "name": "python3"
  },
  "language_info": {
   "codemirror_mode": {
    "name": "ipython",
    "version": 3
   },
   "file_extension": ".py",
   "mimetype": "text/x-python",
   "name": "python",
   "nbconvert_exporter": "python",
   "pygments_lexer": "ipython3",
   "version": "3.6.4"
  }
 },
 "nbformat": 4,
 "nbformat_minor": 2
}
