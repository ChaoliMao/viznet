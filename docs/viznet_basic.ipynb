{
 "cells": [
  {
   "cell_type": "code",
   "execution_count": null,
   "metadata": {
    "collapsed": true
   },
   "outputs": [],
   "source": [
    "import matplotlib.pyplot as plt\n",
    "import numpy as np\n",
    "try:\n",
    "    import viznet\n",
    "except:\n",
    "    !pip install -U viznet\n",
    "    import viznet\n",
    "from viznet import NodeBrush, EdgeBrush\n",
    "\n",
    "def _show():\n",
    "    plt.axis('off')\n",
    "    plt.axis('equal')\n",
    "    plt.show()"
   ]
  },
  {
   "cell_type": "markdown",
   "metadata": {},
   "source": [
    "# Basic Operations"
   ]
  },
  {
   "cell_type": "code",
   "execution_count": null,
   "metadata": {
    "scrolled": true
   },
   "outputs": [],
   "source": [
    "brush1 = NodeBrush('nn.input', size='normal')\n",
    "brush2 = NodeBrush('tn.tri', size='normal', rotate=np.pi)\n",
    "edge = EdgeBrush('->-', lw=2, zorder=1000, color='r')\n",
    "\n",
    "# paint a node at (x=1, y=0)\n",
    "node1 = brush1 >> (1,0)\n",
    "node2 = brush2 >> (2,0)\n",
    "# add texts to nodes\n",
    "node1.text('First', 'center', fontsize=18)\n",
    "node2.text('Second', 'right', fontsize=18)\n",
    "\n",
    "# connect two nodes\n",
    "e12 = edge >> (node1, node2)\n",
    "e12.text('Edge', 'top', fontsize=18)\n",
    "\n",
    "# use C link\n",
    "clink = viznet.CLinkBrush('<->', offsets=(-0.3,), roundness=0.2)\n",
    "cl = clink >> (node1.pin('bottom'), node2.pin('bottom'))\n",
    "cl.text('C link', 'top', fontsize=14)\n",
    "\n",
    "_show()"
   ]
  },
  {
   "cell_type": "markdown",
   "metadata": {},
   "source": [
    "# Grid System\n",
    "Grid system make you can define a grid, and use saocaozuo like `rectangle >> grid[i,j]` and `brush >> grid[2:4, 4:7]` to plot on a predefine grid. Notice here, the brush must be **rectangular**!"
   ]
  },
  {
   "cell_type": "code",
   "execution_count": null,
   "metadata": {},
   "outputs": [],
   "source": [
    "grid = viznet.Grid((2.0, 1.2), offset=(2,2))\n",
    "brush = NodeBrush('basic')\n",
    "edge = EdgeBrush('->', lw=2., color='r')\n",
    "box = NodeBrush('box', roundness=0.2, size='large')\n",
    "\n",
    "# define an mpo\n",
    "mpo = NodeBrush('box', color='g', roundness=0.2)\n",
    "\n",
    "brushes = []\n",
    "\n",
    "for i in range(4):\n",
    "    for j in range(4):\n",
    "        brushes.append(brush >> grid[i, j])\n",
    "for i in range(15):\n",
    "    edge >> (brushes[i], brushes[i+1])\n",
    "box >> grid[1:2, 1:2]\n",
    "\n",
    "# generate two mpos\n",
    "A = mpo >> grid[4:5, 0:0]; A.text('A')\n",
    "B = mpo >> grid[4:5, 2:2.5]; B.text('B')\n",
    "# if you don't like grid, you can do use slices directly.\n",
    "C = mpo >> (slice(13,14), slice(2, 5)); C.text('C')\n",
    "\n",
    "# connect left legs.\n",
    "edge >> (A.pin('top', align = grid[4, 0]), B.pin('bottom', align = grid[4, 0]))\n",
    "edge >> (B.pin('bottom', align = grid[5, 0]), A.pin('top', align = grid[5, 0]))\n",
    "_show()"
   ]
  },
  {
   "cell_type": "markdown",
   "metadata": {},
   "source": [
    "# Cluster Wise Operations\n",
    "Cluster operations is quite useful when coping neural networks."
   ]
  },
  {
   "cell_type": "code",
   "execution_count": null,
   "metadata": {},
   "outputs": [],
   "source": [
    "# we have two sequences of nodes\n",
    "seq1 = [brush >> (i,0) for i in range(10)]\n",
    "seq2 = [brush >> (i,3) for i in range(10)]\n",
    "\n",
    "# connect them one by one use a fancier edge\n",
    "edge2 = viznet.EdgeBrush('<..->', lw=2, zorder=1000, color='r')\n",
    "viznet.connect121(seq1, seq2, edge2)\n",
    "\n",
    "# and clink type of edges\n",
    "clink.lw = 2\n",
    "clink.offsets = (0.3, 1.5)\n",
    "clink >> (seq1[1].pin('bottom'), seq2[1].pin('top'))\n",
    "\n",
    "_show()"
   ]
  },
  {
   "cell_type": "markdown",
   "metadata": {},
   "source": [
    "Here, the edge is a combination of characters in `\"-.=<>\"`, the number of `\"-.=\"` decide the relative length.\n",
    "\n",
    "Also, we have all to all connections"
   ]
  },
  {
   "cell_type": "code",
   "execution_count": null,
   "metadata": {},
   "outputs": [],
   "source": [
    "# we have two sequences of nodes\n",
    "seq1 = [brush >> (i,0) for i in range(5)]\n",
    "seq2 = [brush >> (i,1) for i in range(5)]\n",
    "\n",
    "# make a all to all connect\n",
    "viznet.connecta2a(seq1, seq2, edge)\n",
    "\n",
    "_show()"
   ]
  },
  {
   "cell_type": "markdown",
   "metadata": {},
   "source": [
    "# Quantum Circuit Handler\n",
    "First, let's see some predefined themes"
   ]
  },
  {
   "cell_type": "code",
   "execution_count": null,
   "metadata": {},
   "outputs": [],
   "source": [
    "i = 0\n",
    "for kind in viznet.theme.NODE_THEME_DICT.keys():\n",
    "    if kind[:3] == 'qc.':\n",
    "        brush = NodeBrush(kind)\n",
    "        node = brush >> (i%4, -(i//4))\n",
    "        node.text(kind, 'bottom')\n",
    "        i += 1\n",
    "_show()\n",
    "\n",
    "\n",
    "# then we define some brushes\n",
    "basic = NodeBrush('qc.basic')\n",
    "C = NodeBrush('qc.C')\n",
    "NC = NodeBrush('qc.NC', size='tiny')\n",
    "NOT = NodeBrush('qc.NOT', size='small')\n",
    "END = NodeBrush('qc.end')\n",
    "cross = NodeBrush('qc.cross')\n",
    "M = NodeBrush('qc.measure')\n",
    "\n",
    "# define a box, and make it wider, this box size can change during plot\n",
    "box = NodeBrush('qc.box'); box.size = (0.5, 0.3)"
   ]
  },
  {
   "cell_type": "code",
   "execution_count": null,
   "metadata": {},
   "outputs": [],
   "source": [
    "# To begin, define a circuit handler\n",
    "num_bit = 6\n",
    "handler = viznet.QuantumCircuit(num_bit=num_bit)\n",
    "\n",
    "# right shift the current x by 0.8 and place an X gate at 0-th line.\n",
    "handler.x += 0.8\n",
    "handler.gate(basic, 0, 'X')\n",
    "\n",
    "for i in range(1, num_bit):\n",
    "    handler.gate(basic, i, 'H')\n",
    "    \n",
    "# handler.block returns a context, circuit defined in this block will be enclosed with a dashed box.\n",
    "# this context then returns a list of `Node`.\n",
    "handler.x += 1.2\n",
    "with handler.block(slice(0, num_bit-1), pad_x=0.1) as b:\n",
    "    # focus will move focused lines to top, can be viewed as permute.\n",
    "    handler.focus([4, 2, 1, 3])\n",
    "b[0].text('focus', 'top')\n",
    "\n",
    "# entangler block\n",
    "handler.x += 1.2\n",
    "with handler.block(slice(0, 3)) as b:\n",
    "    handler.gate((C, NOT), (1, 0))\n",
    "    # notice the height of this box is changed to fit the line.\n",
    "    handler.gate((C, NC, box), (5, 4, slice(2,3)), text=['','','GATE'], fontsize=12)\n",
    "    handler.x += 0.7\n",
    "    handler.gate((C, basic), (2, 0), ['','X'])\n",
    "    handler.x += 0.7\n",
    "    handler.gate((NC, NOT), (3, 2))\n",
    "b[0].text('entangler', 'top')\n",
    "\n",
    "handler.x += 1.2\n",
    "for i in range(num_bit):\n",
    "    handler.gate(basic, i, 'H')\n",
    "    \n",
    "# put a normal ending, measure and become a classical bit.\n",
    "handler.x += 1\n",
    "for i in range(num_bit):\n",
    "    handler.gate(M, i)\n",
    "handler.edge.style = '='\n",
    "handler.x += 0.8\n",
    "for i in range(num_bit):\n",
    "    handler.gate(END, i)\n",
    "_show()"
   ]
  },
  {
   "cell_type": "code",
   "execution_count": null,
   "metadata": {
    "collapsed": true
   },
   "outputs": [],
   "source": []
  }
 ],
 "metadata": {
  "kernelspec": {
   "display_name": "Python 3",
   "language": "python",
   "name": "python3"
  },
  "language_info": {
   "codemirror_mode": {
    "name": "ipython",
    "version": 3
   },
   "file_extension": ".py",
   "mimetype": "text/x-python",
   "name": "python",
   "nbconvert_exporter": "python",
   "pygments_lexer": "ipython3",
   "version": "3.6.4"
  }
 },
 "nbformat": 4,
 "nbformat_minor": 2
}
